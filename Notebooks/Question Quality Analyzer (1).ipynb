{
 "cells": [
  {
   "cell_type": "code",
   "execution_count": 30,
   "id": "d29a7773-595e-4052-a582-835337f7e41b",
   "metadata": {},
   "outputs": [
    {
     "data": {
      "text/html": [
       "<div>\n",
       "<style scoped>\n",
       "    .dataframe tbody tr th:only-of-type {\n",
       "        vertical-align: middle;\n",
       "    }\n",
       "\n",
       "    .dataframe tbody tr th {\n",
       "        vertical-align: top;\n",
       "    }\n",
       "\n",
       "    .dataframe thead th {\n",
       "        text-align: right;\n",
       "    }\n",
       "</style>\n",
       "<table border=\"1\" class=\"dataframe\">\n",
       "  <thead>\n",
       "    <tr style=\"text-align: right;\">\n",
       "      <th></th>\n",
       "      <th>Id</th>\n",
       "      <th>OwnerUserId</th>\n",
       "      <th>CreationDate</th>\n",
       "      <th>ClosedDate</th>\n",
       "      <th>Score</th>\n",
       "      <th>Title</th>\n",
       "      <th>Body</th>\n",
       "    </tr>\n",
       "  </thead>\n",
       "  <tbody>\n",
       "    <tr>\n",
       "      <th>0</th>\n",
       "      <td>80</td>\n",
       "      <td>26.0</td>\n",
       "      <td>2008-08-01T13:57:07Z</td>\n",
       "      <td>NaN</td>\n",
       "      <td>26</td>\n",
       "      <td>SQLStatement.execute() - multiple queries in o...</td>\n",
       "      <td>&lt;p&gt;I've written a database generation script i...</td>\n",
       "    </tr>\n",
       "    <tr>\n",
       "      <th>1</th>\n",
       "      <td>90</td>\n",
       "      <td>58.0</td>\n",
       "      <td>2008-08-01T14:41:24Z</td>\n",
       "      <td>2012-12-26T03:45:49Z</td>\n",
       "      <td>144</td>\n",
       "      <td>Good branching and merging tutorials for Torto...</td>\n",
       "      <td>&lt;p&gt;Are there any really good tutorials explain...</td>\n",
       "    </tr>\n",
       "    <tr>\n",
       "      <th>2</th>\n",
       "      <td>120</td>\n",
       "      <td>83.0</td>\n",
       "      <td>2008-08-01T15:50:08Z</td>\n",
       "      <td>NaN</td>\n",
       "      <td>21</td>\n",
       "      <td>ASP.NET Site Maps</td>\n",
       "      <td>&lt;p&gt;Has anyone got experience creating &lt;strong&gt;...</td>\n",
       "    </tr>\n",
       "    <tr>\n",
       "      <th>3</th>\n",
       "      <td>180</td>\n",
       "      <td>2089740.0</td>\n",
       "      <td>2008-08-01T18:42:19Z</td>\n",
       "      <td>NaN</td>\n",
       "      <td>53</td>\n",
       "      <td>Function for creating color wheels</td>\n",
       "      <td>&lt;p&gt;This is something I've pseudo-solved many t...</td>\n",
       "    </tr>\n",
       "    <tr>\n",
       "      <th>4</th>\n",
       "      <td>260</td>\n",
       "      <td>91.0</td>\n",
       "      <td>2008-08-01T23:22:08Z</td>\n",
       "      <td>NaN</td>\n",
       "      <td>49</td>\n",
       "      <td>Adding scripting functionality to .NET applica...</td>\n",
       "      <td>&lt;p&gt;I have a little game written in C#. It uses...</td>\n",
       "    </tr>\n",
       "    <tr>\n",
       "      <th>...</th>\n",
       "      <td>...</td>\n",
       "      <td>...</td>\n",
       "      <td>...</td>\n",
       "      <td>...</td>\n",
       "      <td>...</td>\n",
       "      <td>...</td>\n",
       "      <td>...</td>\n",
       "    </tr>\n",
       "    <tr>\n",
       "      <th>49995</th>\n",
       "      <td>2372290</td>\n",
       "      <td>271362.0</td>\n",
       "      <td>2010-03-03T15:01:30Z</td>\n",
       "      <td>NaN</td>\n",
       "      <td>3</td>\n",
       "      <td>Hot to get random date in range</td>\n",
       "      <td>&lt;p&gt;I have two dates as strings (dd-mm-yyyy).\\n...</td>\n",
       "    </tr>\n",
       "    <tr>\n",
       "      <th>49996</th>\n",
       "      <td>2372300</td>\n",
       "      <td>88092.0</td>\n",
       "      <td>2010-03-03T15:03:22Z</td>\n",
       "      <td>NaN</td>\n",
       "      <td>1</td>\n",
       "      <td>Run Silverlight Project...doesn't point to web...</td>\n",
       "      <td>&lt;p&gt;I've created a Silverlight app and VS set u...</td>\n",
       "    </tr>\n",
       "    <tr>\n",
       "      <th>49997</th>\n",
       "      <td>2372320</td>\n",
       "      <td>282230.0</td>\n",
       "      <td>2010-03-03T15:05:59Z</td>\n",
       "      <td>NaN</td>\n",
       "      <td>0</td>\n",
       "      <td>Server multithreading overkill?</td>\n",
       "      <td>&lt;p&gt;I'm creating a server-type application at t...</td>\n",
       "    </tr>\n",
       "    <tr>\n",
       "      <th>49998</th>\n",
       "      <td>2372330</td>\n",
       "      <td>285409.0</td>\n",
       "      <td>2010-03-03T15:06:53Z</td>\n",
       "      <td>NaN</td>\n",
       "      <td>1</td>\n",
       "      <td>extjs tree using cntl x and v</td>\n",
       "      <td>&lt;p&gt;I have a client that is requesting to be ab...</td>\n",
       "    </tr>\n",
       "    <tr>\n",
       "      <th>49999</th>\n",
       "      <td>2372340</td>\n",
       "      <td>115845.0</td>\n",
       "      <td>2010-03-03T15:08:41Z</td>\n",
       "      <td>NaN</td>\n",
       "      <td>4</td>\n",
       "      <td>haystack's RealTimeSearchIndex causes django t...</td>\n",
       "      <td>&lt;p&gt;I'm using django-haystack and a xapian back...</td>\n",
       "    </tr>\n",
       "  </tbody>\n",
       "</table>\n",
       "<p>50000 rows × 7 columns</p>\n",
       "</div>"
      ],
      "text/plain": [
       "            Id  OwnerUserId          CreationDate            ClosedDate  \\\n",
       "0           80         26.0  2008-08-01T13:57:07Z                   NaN   \n",
       "1           90         58.0  2008-08-01T14:41:24Z  2012-12-26T03:45:49Z   \n",
       "2          120         83.0  2008-08-01T15:50:08Z                   NaN   \n",
       "3          180    2089740.0  2008-08-01T18:42:19Z                   NaN   \n",
       "4          260         91.0  2008-08-01T23:22:08Z                   NaN   \n",
       "...        ...          ...                   ...                   ...   \n",
       "49995  2372290     271362.0  2010-03-03T15:01:30Z                   NaN   \n",
       "49996  2372300      88092.0  2010-03-03T15:03:22Z                   NaN   \n",
       "49997  2372320     282230.0  2010-03-03T15:05:59Z                   NaN   \n",
       "49998  2372330     285409.0  2010-03-03T15:06:53Z                   NaN   \n",
       "49999  2372340     115845.0  2010-03-03T15:08:41Z                   NaN   \n",
       "\n",
       "       Score                                              Title  \\\n",
       "0         26  SQLStatement.execute() - multiple queries in o...   \n",
       "1        144  Good branching and merging tutorials for Torto...   \n",
       "2         21                                  ASP.NET Site Maps   \n",
       "3         53                 Function for creating color wheels   \n",
       "4         49  Adding scripting functionality to .NET applica...   \n",
       "...      ...                                                ...   \n",
       "49995      3                    Hot to get random date in range   \n",
       "49996      1  Run Silverlight Project...doesn't point to web...   \n",
       "49997      0                    Server multithreading overkill?   \n",
       "49998      1                      extjs tree using cntl x and v   \n",
       "49999      4  haystack's RealTimeSearchIndex causes django t...   \n",
       "\n",
       "                                                    Body  \n",
       "0      <p>I've written a database generation script i...  \n",
       "1      <p>Are there any really good tutorials explain...  \n",
       "2      <p>Has anyone got experience creating <strong>...  \n",
       "3      <p>This is something I've pseudo-solved many t...  \n",
       "4      <p>I have a little game written in C#. It uses...  \n",
       "...                                                  ...  \n",
       "49995  <p>I have two dates as strings (dd-mm-yyyy).\\n...  \n",
       "49996  <p>I've created a Silverlight app and VS set u...  \n",
       "49997  <p>I'm creating a server-type application at t...  \n",
       "49998  <p>I have a client that is requesting to be ab...  \n",
       "49999  <p>I'm using django-haystack and a xapian back...  \n",
       "\n",
       "[50000 rows x 7 columns]"
      ]
     },
     "execution_count": 30,
     "metadata": {},
     "output_type": "execute_result"
    }
   ],
   "source": [
    "\n",
    "import pandas as pd\n",
    "from sklearn.ensemble import RandomForestClassifier\n",
    "from textblob import TextBlob\n",
    "\n",
    "# Load questions dataset\n",
    "try:\n",
    "    data = pd.read_csv(r'C:\\Rajveer\\AI\\AI Project\\AI Project\\Data\\Questions.csv', encoding='utf-8',nrows=50000)\n",
    "except UnicodeDecodeError:\n",
    "   data = pd.read_csv(r'C:\\Rajveer\\AI\\AI Project\\AI Project\\Data\\Questions.csv', encoding='latin-1',nrows=50000)\n",
    "data"
   ]
  },
  {
   "cell_type": "code",
   "execution_count": 31,
   "id": "adb79fdc-3395-4261-b885-0151584be9f1",
   "metadata": {},
   "outputs": [],
   "source": [
    "# Preprocess data and extract features\n",
    "data.dropna(inplace=True)  # Drop rows with missing values\n"
   ]
  },
  {
   "cell_type": "code",
   "execution_count": 32,
   "id": "e57b6207-06bf-4e88-b5b5-d692476e675d",
   "metadata": {},
   "outputs": [],
   "source": [
    "# Extract features\n",
    "data['text_length'] = data['Body'].apply(len)\n",
    "data['sentiment'] = data['Body'].apply(lambda x: TextBlob(x).sentiment.polarity)\n",
    "data['hour_of_day'] = pd.to_datetime(data['CreationDate']).dt.hour\n",
    "data['day_of_week'] = pd.to_datetime(data['CreationDate']).dt.dayofweek\n"
   ]
  },
  {
   "cell_type": "code",
   "execution_count": 33,
   "id": "b3611ef0-9c01-4504-9668-348c07eea5cf",
   "metadata": {},
   "outputs": [],
   "source": [
    "# Define target variable (score_category)\n",
    "data['score_category'] = pd.cut(data['Score'], bins=[-float('inf'), 10, float('inf')], labels=['Low', 'High'])"
   ]
  },
  {
   "cell_type": "code",
   "execution_count": 34,
   "id": "995205ad-3e3a-4197-ae3e-ee6f2d25ca3f",
   "metadata": {},
   "outputs": [],
   "source": [
    "# Select features and target variable\n",
    "X = data[['text_length', 'sentiment', 'hour_of_day', 'day_of_week']]\n",
    "y = data['score_category']\n"
   ]
  },
  {
   "cell_type": "code",
   "execution_count": 35,
   "id": "73b5e267-1f7a-46d1-ac08-1e1ad36cf553",
   "metadata": {},
   "outputs": [
    {
     "data": {
      "text/html": [
       "<style>#sk-container-id-4 {color: black;background-color: white;}#sk-container-id-4 pre{padding: 0;}#sk-container-id-4 div.sk-toggleable {background-color: white;}#sk-container-id-4 label.sk-toggleable__label {cursor: pointer;display: block;width: 100%;margin-bottom: 0;padding: 0.3em;box-sizing: border-box;text-align: center;}#sk-container-id-4 label.sk-toggleable__label-arrow:before {content: \"▸\";float: left;margin-right: 0.25em;color: #696969;}#sk-container-id-4 label.sk-toggleable__label-arrow:hover:before {color: black;}#sk-container-id-4 div.sk-estimator:hover label.sk-toggleable__label-arrow:before {color: black;}#sk-container-id-4 div.sk-toggleable__content {max-height: 0;max-width: 0;overflow: hidden;text-align: left;background-color: #f0f8ff;}#sk-container-id-4 div.sk-toggleable__content pre {margin: 0.2em;color: black;border-radius: 0.25em;background-color: #f0f8ff;}#sk-container-id-4 input.sk-toggleable__control:checked~div.sk-toggleable__content {max-height: 200px;max-width: 100%;overflow: auto;}#sk-container-id-4 input.sk-toggleable__control:checked~label.sk-toggleable__label-arrow:before {content: \"▾\";}#sk-container-id-4 div.sk-estimator input.sk-toggleable__control:checked~label.sk-toggleable__label {background-color: #d4ebff;}#sk-container-id-4 div.sk-label input.sk-toggleable__control:checked~label.sk-toggleable__label {background-color: #d4ebff;}#sk-container-id-4 input.sk-hidden--visually {border: 0;clip: rect(1px 1px 1px 1px);clip: rect(1px, 1px, 1px, 1px);height: 1px;margin: -1px;overflow: hidden;padding: 0;position: absolute;width: 1px;}#sk-container-id-4 div.sk-estimator {font-family: monospace;background-color: #f0f8ff;border: 1px dotted black;border-radius: 0.25em;box-sizing: border-box;margin-bottom: 0.5em;}#sk-container-id-4 div.sk-estimator:hover {background-color: #d4ebff;}#sk-container-id-4 div.sk-parallel-item::after {content: \"\";width: 100%;border-bottom: 1px solid gray;flex-grow: 1;}#sk-container-id-4 div.sk-label:hover label.sk-toggleable__label {background-color: #d4ebff;}#sk-container-id-4 div.sk-serial::before {content: \"\";position: absolute;border-left: 1px solid gray;box-sizing: border-box;top: 0;bottom: 0;left: 50%;z-index: 0;}#sk-container-id-4 div.sk-serial {display: flex;flex-direction: column;align-items: center;background-color: white;padding-right: 0.2em;padding-left: 0.2em;position: relative;}#sk-container-id-4 div.sk-item {position: relative;z-index: 1;}#sk-container-id-4 div.sk-parallel {display: flex;align-items: stretch;justify-content: center;background-color: white;position: relative;}#sk-container-id-4 div.sk-item::before, #sk-container-id-4 div.sk-parallel-item::before {content: \"\";position: absolute;border-left: 1px solid gray;box-sizing: border-box;top: 0;bottom: 0;left: 50%;z-index: -1;}#sk-container-id-4 div.sk-parallel-item {display: flex;flex-direction: column;z-index: 1;position: relative;background-color: white;}#sk-container-id-4 div.sk-parallel-item:first-child::after {align-self: flex-end;width: 50%;}#sk-container-id-4 div.sk-parallel-item:last-child::after {align-self: flex-start;width: 50%;}#sk-container-id-4 div.sk-parallel-item:only-child::after {width: 0;}#sk-container-id-4 div.sk-dashed-wrapped {border: 1px dashed gray;margin: 0 0.4em 0.5em 0.4em;box-sizing: border-box;padding-bottom: 0.4em;background-color: white;}#sk-container-id-4 div.sk-label label {font-family: monospace;font-weight: bold;display: inline-block;line-height: 1.2em;}#sk-container-id-4 div.sk-label-container {text-align: center;}#sk-container-id-4 div.sk-container {/* jupyter's `normalize.less` sets `[hidden] { display: none; }` but bootstrap.min.css set `[hidden] { display: none !important; }` so we also need the `!important` here to be able to override the default hidden behavior on the sphinx rendered scikit-learn.org. See: https://github.com/scikit-learn/scikit-learn/issues/21755 */display: inline-block !important;position: relative;}#sk-container-id-4 div.sk-text-repr-fallback {display: none;}</style><div id=\"sk-container-id-4\" class=\"sk-top-container\"><div class=\"sk-text-repr-fallback\"><pre>RandomForestClassifier(random_state=42)</pre><b>In a Jupyter environment, please rerun this cell to show the HTML representation or trust the notebook. <br />On GitHub, the HTML representation is unable to render, please try loading this page with nbviewer.org.</b></div><div class=\"sk-container\" hidden><div class=\"sk-item\"><div class=\"sk-estimator sk-toggleable\"><input class=\"sk-toggleable__control sk-hidden--visually\" id=\"sk-estimator-id-4\" type=\"checkbox\" checked><label for=\"sk-estimator-id-4\" class=\"sk-toggleable__label sk-toggleable__label-arrow\">RandomForestClassifier</label><div class=\"sk-toggleable__content\"><pre>RandomForestClassifier(random_state=42)</pre></div></div></div></div></div>"
      ],
      "text/plain": [
       "RandomForestClassifier(random_state=42)"
      ]
     },
     "execution_count": 35,
     "metadata": {},
     "output_type": "execute_result"
    }
   ],
   "source": [
    "# Train a Random Forest classifier\n",
    "model = RandomForestClassifier(n_estimators=100, random_state=42)\n",
    "model.fit(X, y)"
   ]
  },
  {
   "cell_type": "code",
   "execution_count": 36,
   "id": "6cbdd93c-d049-41a2-8b95-b8fc4ee471e6",
   "metadata": {},
   "outputs": [],
   "source": [
    "# Define a function to predict score_category for a given question text\n",
    "def predict_score_category(question_text, creation_date):\n",
    "    text_length = len(question_text)\n",
    "    sentiment = TextBlob(question_text).sentiment.polarity\n",
    "    hour_of_day = pd.to_datetime(creation_date).hour\n",
    "    day_of_week = pd.to_datetime(creation_date).dayofweek\n",
    "    features = [[text_length, sentiment, hour_of_day, day_of_week]]\n",
    "    predicted_category = model.predict(features)[0]\n",
    "    return predicted_category"
   ]
  },
  {
   "cell_type": "code",
   "execution_count": 37,
   "id": "f5346009-6d1b-4c73-8704-7ba34693a892",
   "metadata": {},
   "outputs": [
    {
     "name": "stdout",
     "output_type": "stream",
     "text": [
      "Predicted Score Category: Low\n"
     ]
    },
    {
     "name": "stderr",
     "output_type": "stream",
     "text": [
      "C:\\Users\\rajve\\anaconda3\\Lib\\site-packages\\sklearn\\base.py:439: UserWarning: X does not have valid feature names, but RandomForestClassifier was fitted with feature names\n",
      "  warnings.warn(\n"
     ]
    }
   ],
   "source": [
    "\n",
    "# Test the function with a sample question text and creation_date\n",
    "sample_question_text = \"Please Id like to know how to get pvalue for predictors of quantile regression? Please could You provide a code or explain me how get that for quantile regression?\"\n",
    "sample_creation_date = \"2023-04-7T12:30:00\"\n",
    "\n",
    "predicted_category = predict_score_category(sample_question_text, sample_creation_date)\n",
    "print(f\"Predicted Score Category: {predicted_category}\")\n"
   ]
  },
  {
   "cell_type": "code",
   "execution_count": null,
   "id": "8db39ba5-7d7f-4c83-8cc8-f232679fc284",
   "metadata": {},
   "outputs": [],
   "source": [
    "\n"
   ]
  },
  {
   "cell_type": "code",
   "execution_count": null,
   "id": "d064b864-bb1a-47b7-8cbc-cd70e7408118",
   "metadata": {},
   "outputs": [],
   "source": []
  }
 ],
 "metadata": {
  "kernelspec": {
   "display_name": "Python 3 (ipykernel)",
   "language": "python",
   "name": "python3"
  },
  "language_info": {
   "codemirror_mode": {
    "name": "ipython",
    "version": 3
   },
   "file_extension": ".py",
   "mimetype": "text/x-python",
   "name": "python",
   "nbconvert_exporter": "python",
   "pygments_lexer": "ipython3",
   "version": "3.11.7"
  }
 },
 "nbformat": 4,
 "nbformat_minor": 5
}
